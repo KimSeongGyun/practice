{
 "cells": [
  {
   "cell_type": "code",
   "execution_count": 1,
   "metadata": {},
   "outputs": [],
   "source": [
    "import numpy as np"
   ]
  },
  {
   "cell_type": "code",
   "execution_count": 2,
   "metadata": {},
   "outputs": [
    {
     "name": "stdout",
     "output_type": "stream",
     "text": [
      "[1 2 3 4 5]\n",
      "<type 'numpy.ndarray'>\n",
      "5\n"
     ]
    }
   ],
   "source": [
    "arr = [1,2,3,4,5]\n",
    "np_arr = np.array(arr)\n",
    "\n",
    "print(np_arr)\n",
    "print(type(np_arr))\n",
    "print(np.size(np_arr))"
   ]
  },
  {
   "cell_type": "code",
   "execution_count": 3,
   "metadata": {
    "scrolled": true
   },
   "outputs": [
    {
     "name": "stdout",
     "output_type": "stream",
     "text": [
      "[ 0  1  2  3  4  5  6  7  8  9 10 11 12 13 14]\n",
      "[[ 0  1  2  3  4]\n",
      " [ 5  6  7  8  9]\n",
      " [10 11 12 13 14]]\n"
     ]
    }
   ],
   "source": [
    "a = np.arange(15)\n",
    "b = a.reshape(3,5)\n",
    "print a\n",
    "print b"
   ]
  },
  {
   "cell_type": "code",
   "execution_count": 4,
   "metadata": {},
   "outputs": [
    {
     "name": "stdout",
     "output_type": "stream",
     "text": [
      "[10 11 12 13 14 15 16 17 18 19 20 21 22 23 24]\n",
      "[  0  10  20  30  40  50  60  70  80  90 100 110 120 130 140]\n"
     ]
    }
   ],
   "source": [
    "print(a+10)\n",
    "print(a*10)"
   ]
  },
  {
   "cell_type": "code",
   "execution_count": 5,
   "metadata": {},
   "outputs": [
    {
     "name": "stdout",
     "output_type": "stream",
     "text": [
      "[[0. 0. 0. 0.]\n",
      " [0. 0. 0. 0.]\n",
      " [0. 0. 0. 0.]]\n",
      "[[1. 1. 1.]\n",
      " [1. 1. 1.]\n",
      " [1. 1. 1.]\n",
      " [1. 1. 1.]]\n"
     ]
    }
   ],
   "source": [
    "print np.zeros((3,4))\n",
    "print np.ones((4,3))"
   ]
  },
  {
   "cell_type": "code",
   "execution_count": 6,
   "metadata": {},
   "outputs": [
    {
     "name": "stdout",
     "output_type": "stream",
     "text": [
      "[10 15 20 25 30 35]\n",
      "[0.  0.3 0.6 0.9 1.2 1.5 1.8]\n"
     ]
    }
   ],
   "source": [
    "print np.arange(10,40,5) #start, end, step\n",
    "print np.arange(0,2,0.3)"
   ]
  },
  {
   "cell_type": "code",
   "execution_count": 7,
   "metadata": {},
   "outputs": [
    {
     "name": "stdout",
     "output_type": "stream",
     "text": [
      "[0 1 2 3 4 5 6 7 8 9]\n",
      "[ 0.          0.84147098  0.90929743  0.14112001 -0.7568025  -0.95892427\n",
      " -0.2794155   0.6569866   0.98935825  0.41211849]\n",
      "[  0   1   8  27  64 125 216 343 512 729]\n",
      "0.9893582466233818\n",
      "0.195520948210738\n",
      "1.9552094821073802\n"
     ]
    }
   ],
   "source": [
    "a = np.arange(10)\n",
    "b = np.sin(a)\n",
    "print a\n",
    "print b\n",
    "print a**3\n",
    "print np.max(b)\n",
    "print np.mean(b)\n",
    "print np.sum(b)"
   ]
  },
  {
   "cell_type": "code",
   "execution_count": 8,
   "metadata": {},
   "outputs": [
    {
     "name": "stdout",
     "output_type": "stream",
     "text": [
      "[[ 0  1  2  3  4]\n",
      " [ 5  6  7  8  9]\n",
      " [10 11 12 13 14]]\n",
      "[15 18 21 24 27]\n",
      "[10 35 60]\n",
      "[10 11 12 13 14]\n",
      "[ 4  9 14]\n"
     ]
    }
   ],
   "source": [
    "c = np.arange(15).reshape(3,5)\n",
    "print c\n",
    "print np.sum(c, axis = 0) #sum of each column\n",
    "print np.sum(c, axis = 1) #sum of each row\n",
    "print np.max(c, axis = 0)\n",
    "print np.max(c, axis = 1)"
   ]
  },
  {
   "cell_type": "code",
   "execution_count": 9,
   "metadata": {},
   "outputs": [
    {
     "name": "stdout",
     "output_type": "stream",
     "text": [
      "8\n",
      "[ 8 27 64]\n",
      "[  8  64 216]\n",
      "[  0   1   8  27  64 125 216 343 512 729]\n",
      "[729 512 343 216 125  64  27   8   1   0]\n"
     ]
    }
   ],
   "source": [
    "a = np.arange(10)**3\n",
    "print a[2]\n",
    "print a[2:5]\n",
    "print a[2:8:2]\n",
    "print a\n",
    "print a[::-1]"
   ]
  },
  {
   "cell_type": "code",
   "execution_count": 10,
   "metadata": {},
   "outputs": [
    {
     "name": "stdout",
     "output_type": "stream",
     "text": [
      "[[  0.   3.]\n",
      " [  1.   6.]\n",
      " [  2.  11.]\n",
      " [  3.  18.]\n",
      " [  4.  27.]\n",
      " [  5.  38.]\n",
      " [  6.  51.]\n",
      " [  7.  66.]\n",
      " [  8.  83.]\n",
      " [  9. 102.]\n",
      " [ 10. 123.]\n",
      " [ 11. 146.]\n",
      " [ 12. 171.]\n",
      " [ 13. 198.]\n",
      " [ 14. 227.]]\n"
     ]
    }
   ],
   "source": [
    "a = np.arange(15)\n",
    "coefficients = [1,2,3]\n",
    "f = np.poly1d(coefficients)\n",
    "result = np.zeros((np.size(a),2))\n",
    "result[0:,0] = a\n",
    "result[0:,1] = f(a)\n",
    "\n",
    "print result"
   ]
  },
  {
   "cell_type": "code",
   "execution_count": 11,
   "metadata": {},
   "outputs": [
    {
     "name": "stdout",
     "output_type": "stream",
     "text": [
      "(array([6, 7, 8, 9]),)\n",
      "[0 1 0 1 0 1 0 1 0 1]\n",
      "[ True False  True False  True False  True False  True False]\n"
     ]
    }
   ],
   "source": [
    "a = np.arange(10)\n",
    "print np.where(a>5)\n",
    "print a%2\n",
    "print a%2==0"
   ]
  }
 ],
 "metadata": {
  "kernelspec": {
   "display_name": "Python 2",
   "language": "python",
   "name": "python2"
  },
  "language_info": {
   "codemirror_mode": {
    "name": "ipython",
    "version": 2
   },
   "file_extension": ".py",
   "mimetype": "text/x-python",
   "name": "python",
   "nbconvert_exporter": "python",
   "pygments_lexer": "ipython2",
   "version": "2.7.12"
  }
 },
 "nbformat": 4,
 "nbformat_minor": 2
}
